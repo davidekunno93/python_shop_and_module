{
 "cells": [
  {
   "cell_type": "code",
   "execution_count": 18,
   "id": "407bc86e",
   "metadata": {},
   "outputs": [
    {
     "name": "stdout",
     "output_type": "stream",
     "text": [
      "[4, 3, 1]\n",
      "([4, 3, 1], {1: 2, 2: 1, 4: 2, 3: 3, 5: 1})\n"
     ]
    }
   ],
   "source": [
    "# Given an array with duplicates - return an array with the list of duplicates in the order they appear in the original array\n",
    "\n",
    "# Q: Do you want me to code a function for this operation?\n",
    "\n",
    "# Outline: input=array output=array \n",
    "# Strategy: loop through array, add numbers to new list, and remove number from the array, if number is already in new list before adding, do not add to new list\n",
    "# then coerce remaining numbers into set and back into list before returnining\n",
    "\n",
    "# Strategy2: Loop thru array, if value has count > 1 in original array, then append duplicate list with value\n",
    "\n",
    "\n",
    "lst = [1,2,4,4,3,3,1,5,3]\n",
    "# duplicates = list(set([num for num in lst if lst.count(num) > 1]))\n",
    "\n",
    "# print(duplicates)\n",
    "\n",
    "empty = []\n",
    "dups = []\n",
    "for num in lst:\n",
    "    empty.append(num)\n",
    "    if empty.count(num) == 2:\n",
    "        dups.append(num)\n",
    "    \n",
    "print(dups)\n",
    "\n",
    "def dupes(arr):\n",
    "    key = {}\n",
    "    ans = []\n",
    "    for a in arr:\n",
    "        if a not in key:\n",
    "            key[a] = 1\n",
    "        else:\n",
    "            if key[a] == 1:\n",
    "                key[a] += 1\n",
    "                ans.append(a)\n",
    "            else:\n",
    "                key[a] += 1\n",
    "    return ans, key\n",
    "\n",
    "print(dupes(lst))\n"
   ]
  },
  {
   "cell_type": "code",
   "execution_count": null,
   "id": "469ebca4",
   "metadata": {},
   "outputs": [],
   "source": []
  }
 ],
 "metadata": {
  "kernelspec": {
   "display_name": "Python 3 (ipykernel)",
   "language": "python",
   "name": "python3"
  },
  "language_info": {
   "codemirror_mode": {
    "name": "ipython",
    "version": 3
   },
   "file_extension": ".py",
   "mimetype": "text/x-python",
   "name": "python",
   "nbconvert_exporter": "python",
   "pygments_lexer": "ipython3",
   "version": "3.10.9"
  }
 },
 "nbformat": 4,
 "nbformat_minor": 5
}
