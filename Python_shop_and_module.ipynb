{
 "cells": [
  {
   "cell_type": "code",
   "execution_count": 36,
   "id": "5514cba0",
   "metadata": {},
   "outputs": [
    {
     "name": "stdout",
     "output_type": "stream",
     "text": [
      "*Welcome to shopping cart by python*\n",
      "\n",
      "Enter an item: eggs\n",
      "Would you like to:\n",
      "\t's' - Show current shopping list?\n",
      "\t'a' - Add to shopping list?\n",
      "\t'd' - Delete an item?\n",
      "\t'q' - Quit?\n",
      " a\n",
      "Enter an item: milk\n",
      "Would you like to:\n",
      "\t's' - Show current shopping list?\n",
      "\t'a' - Add to shopping list?\n",
      "\t'd' - Delete an item?\n",
      "\t'q' - Quit?\n",
      " a\n",
      "Enter an item: bacon\n",
      "Would you like to:\n",
      "\t's' - Show current shopping list?\n",
      "\t'a' - Add to shopping list?\n",
      "\t'd' - Delete an item?\n",
      "\t'q' - Quit?\n",
      " q\n",
      "Here is your shopping cart:\n",
      "{1: 'eggs', 2: 'milk', 3: 'bacon'}\n"
     ]
    }
   ],
   "source": [
    "from IPython.display import clear_output\n",
    "\n",
    "# 1. Build a Shopping Cart\n",
    "\n",
    "# Ask the user four bits of input: Do you want to : Show/Add/Delete or Quit?\n",
    "\n",
    "print(\"*Welcome to shopping cart by python*\\n\")\n",
    "\n",
    "# Creating dictionary for shopping cart, cart copy (p) and index variable\n",
    "shop_cart = {}\n",
    "p = {}\n",
    "i = 0\n",
    "item = input(\"Enter an item: \")\n",
    "shop_cart[i+1] = item\n",
    "i += 1\n",
    "\n",
    "# While loop keeps program returning to first question until user quits\n",
    "while True:\n",
    "    ans = input(\"Would you like to:\\n\\t's' - Show current shopping list?\\n\\t'a' - Add to shopping list?\\n\\t'd' - Delete an item?\\n\\t'q' - Quit?\\n \")\n",
    "    if ans == \"s\":\n",
    "        print(shop_cart)\n",
    "        continue\n",
    "    elif ans == \"d\":\n",
    "        print(shop_cart)\n",
    "        while True:\n",
    "            item_del = input(\"Enter the item number you would you like to delete ('q' to go back): \")\n",
    "            if item_del == \"q\":\n",
    "                break\n",
    "            else: \n",
    "                try:\n",
    "                    # delete desired item\n",
    "                    del(shop_cart[int(item_del)])\n",
    "                    p.clear()\n",
    "                    # loop through cart\n",
    "                    for k, v in shop_cart.items():\n",
    "                        # add item to cart copy if numerical key is less than deleted item\n",
    "                        if k < int(item_del):\n",
    "                            p[k] = v\n",
    "                    for k, v in shop_cart.items():\n",
    "                        # add item to cart copy as one # key reduced if og # key was greater than deleted item\n",
    "                        if k > int(item_del):\n",
    "                            p[k-1] = v\n",
    "                    # replace cart with cart copy\n",
    "                    shop_cart = p.copy()\n",
    "                    \n",
    "                    \n",
    "#                     >try searching for any higher # keys in cart and reducing by 1. Failed attempts \n",
    "#                     >Method 1: doesn't work when more than one item ahead of deleted item\n",
    "#                     for k, v in shop_cart.items():\n",
    "#                         elif k > int(item_del):\n",
    "#                             del shop_cart[k]\n",
    "#                             shop_cart[k-1] = v\n",
    "                    \n",
    "#                     >Method 2: didn't work when deleting middle items\n",
    "#                     if k < int(item_del):\n",
    "#                             p[k] = v\n",
    "#                         elif k > int(item_del):\n",
    "#                             p[k-1] = v\n",
    "#                     shop_cart = p\n",
    "                    \n",
    "                    print(\"\\nWould you like to delete another item?\")\n",
    "                    print(shop_cart)\n",
    "                except:\n",
    "                    # if none integer or str that is not q is entered, loop back to question\n",
    "                    print(\"Please enter valid input\")\n",
    "        continue\n",
    "    elif ans == \"a\":\n",
    "        item = input(\"Enter an item: \")\n",
    "        shop_cart[i+1] = item\n",
    "        i += 1\n",
    "        continue\n",
    "    elif ans == \"q\":\n",
    "        print(\"Here is your shopping cart:\")\n",
    "        print(shop_cart)\n",
    "        break\n",
    "    break\n",
    "\n"
   ]
  },
  {
   "cell_type": "code",
   "execution_count": 14,
   "id": "681361b3",
   "metadata": {},
   "outputs": [
    {
     "name": "stdout",
     "output_type": "stream",
     "text": [
      "15\n",
      "25.132741228718345\n"
     ]
    }
   ],
   "source": [
    "# 2. Create a Module in VS Code and Import It into jupyter notebook\n",
    "\n",
    "import test_module\n",
    "\n",
    "print(test_module.find_area(5, 3))\n",
    "\n",
    "print(test_module.find_circ(4))"
   ]
  },
  {
   "cell_type": "code",
   "execution_count": null,
   "id": "4508bb43",
   "metadata": {},
   "outputs": [],
   "source": []
  }
 ],
 "metadata": {
  "kernelspec": {
   "display_name": "Python 3 (ipykernel)",
   "language": "python",
   "name": "python3"
  },
  "language_info": {
   "codemirror_mode": {
    "name": "ipython",
    "version": 3
   },
   "file_extension": ".py",
   "mimetype": "text/x-python",
   "name": "python",
   "nbconvert_exporter": "python",
   "pygments_lexer": "ipython3",
   "version": "3.10.9"
  }
 },
 "nbformat": 4,
 "nbformat_minor": 5
}
